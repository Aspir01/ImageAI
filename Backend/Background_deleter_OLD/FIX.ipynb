{
 "cells": [
  {
   "cell_type": "code",
   "execution_count": null,
   "id": "70d7ba7c",
   "metadata": {
    "cellId": "wgw1fj4sucovx2e33vmc"
   },
   "outputs": [],
   "source": [
    "import os\n",
    "import cv2\n",
    "import numpy as np\n",
    "\n",
    "# 1. Создать словарь для цветовых параметров классов\n",
    "class_color_dict = {}\n",
    "\n",
    "# 2. Загрузить список сегментированных картинок\n",
    "segmentation_dir = 'путь_к_директории'\n",
    "segmentation_files = [file for file in os.listdir(segmentation_dir) if file.endswith('.png')]\n",
    "\n",
    "# 3. Пройтись по каждой картинке\n",
    "for segmentation_file in segmentation_files:\n",
    "    # Загрузка сегментированной маски\n",
    "    mask_path = os.path.join(segmentation_dir, segmentation_file)\n",
    "    mask = cv2.imread(mask_path, cv2.IMREAD_UNCHANGED)\n",
    "    \n",
    "    unique_classes = np.unique(mask)\n",
    "    \n",
    "    # 4. Для каждого \"нового\" класса извлечь цвет и добавить в словарь\n",
    "    for class_id in unique_classes:\n",
    "        if class_id not in class_color_dict:\n",
    "            class_mask = (mask == class_id).astype(np.uint8)\n",
    "            class_color = cv2.mean(image, mask=class_mask)[:3]\n",
    "            class_color_dict[class_id] = class_color\n",
    "    \n",
    "    print(f\"Обработана картинка: {segmentation_file}\")\n",
    "\n",
    "# 5. Вывести полученный словарь цветовых параметров\n",
    "print(\"Словарь цветовых параметров классов:\")\n",
    "print(class_color_dict)"
   ]
  }
 ],
 "metadata": {
  "language_info": {
   "codemirror_mode": {
    "name": "ipython",
    "version": 3
   },
   "file_extension": ".py",
   "mimetype": "text/x-python",
   "name": "python",
   "nbconvert_exporter": "python",
   "pygments_lexer": "ipython3",
   "version": "3.7.7"
  },
  "notebookId": "68b10657-4224-43e6-9783-62da2bdd500e",
  "notebookPath": "Background_deleter/FIX.ipynb"
 },
 "nbformat": 4,
 "nbformat_minor": 5
}

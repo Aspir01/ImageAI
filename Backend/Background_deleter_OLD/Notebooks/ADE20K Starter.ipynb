{
 "cells": [
  {
   "cell_type": "markdown",
   "id": "78438482",
   "metadata": {
    "cellId": "cuclwla7i6fwuddh0l5tc",
    "execution_id": "631a1dc0-6703-4941-8206-35ba773ba8e0"
   },
   "source": [
    "<h1> Основная работа и тестирование датасета ADE20K. </h1>\n",
    "<h6> Взяты с <a href='https://github.com/CSAILVision/ADE20K/'>этого источника</a><h6>"
   ]
  },
  {
   "cell_type": "code",
   "execution_count": null,
   "id": "c582b7f9",
   "metadata": {
    "cellId": "tth3cp0gqte9oxah3k45w",
    "execution_id": "3dc29e53-cd3c-4822-af16-2cc6dfe444d3"
   },
   "outputs": [],
   "source": [
    "%load_ext autoreload\n",
    "%autoreload 2\n",
    "import IPython.display\n",
    "import matplotlib.pyplot as plt\n",
    "import cv2\n",
    "import numpy as np\n",
    "import pickle as pkl\n",
    "from ADE20K_utils import *\n"
   ]
  },
  {
   "cell_type": "code",
   "execution_count": null,
   "id": "172eb8bc",
   "metadata": {
    "cellId": "itsrgz2usfcgr9dyrf8fxu",
    "execution_id": "a9ab8f43-383c-42c2-b42c-b7afb81565e8"
   },
   "outputs": [],
   "source": [
    "# Загрузка индекса с глобальной информацией о датасете\n",
    "DATASET_PATH = '/home/jupyter/mnt/datasets/ADE20K'\n",
    "index_file = '/ADE20K_2021_17_01/index_ade20k.pkl'\n",
    "with open('{}/{}'.format(DATASET_PATH, index_file), 'rb') as f:\n",
    "    index_ade20k = pkl.load(f)\n"
   ]
  },
  {
   "cell_type": "code",
   "execution_count": null,
   "id": "6ee94cf9",
   "metadata": {
    "cellId": "w2jcdpvhbuoas1o7m0shf",
    "execution_id": "5e50beef-4afa-4c58-9bfe-c5eab24f5f63"
   },
   "outputs": [],
   "source": [
    "print(\"Файл был загружен. Вывожу описание атрибутов: \")\n",
    "print('--------------------------------------------')\n",
    "for attribute_name, desc in index_ade20k['description'].items():\n",
    "    print('* {}: {}'.format(attribute_name, desc))\n",
    "print('--------------------------------------------\\n')\n",
    "\n",
    "i = 1686 # 16899, 16964\n",
    "nfiles = len(index_ade20k['filename'])\n",
    "file_name = index_ade20k['filename'][i]\n",
    "num_obj = index_ade20k['objectPresence'][:, i].sum()\n",
    "num_parts = index_ade20k['objectIsPart'][:, i].sum()\n",
    "count_obj = index_ade20k['objectPresence'][:, i].max()\n",
    "obj_id = np.where(index_ade20k['objectPresence'][:, i] == count_obj)[0][0]\n",
    "obj_name = index_ade20k['objectnames'][obj_id]\n",
    "full_file_name = '{}/{}'.format(index_ade20k['folder'][i], index_ade20k['filename'][i])\n",
    "print(\"В датасете {} картинок\".format(nfiles))\n",
    "print(\"Картинка с индексом {} это {}\".format(i, file_name))\n",
    "print(\"Она расположена в {}\".format(full_file_name))\n",
    "print(\"Происходит на сцене: {}\".format(index_ade20k['scene'][i]))\n",
    "print(\"Имеет {} объектов, из которых {} - это части\".format(num_obj, num_parts))\n",
    "print(\"Самый частый объект это {} ({}), он появляется в количестве {}\".format(obj_name, obj_id, count_obj))\n",
    "\n"
   ]
  },
  {
   "cell_type": "code",
   "execution_count": null,
   "id": "4c8d762c",
   "metadata": {
    "cellId": "pvpejk692mo1y81ewqiu7x",
    "execution_id": "89aa6cc3-bb95-4457-99f8-dbf381744906"
   },
   "outputs": [],
   "source": [
    "root_path = DATASET_PATH\n",
    "\n",
    "# Эта функция считывает файлы изображений и масок и создает экземпляры и маски сегментации.\n",
    "info = loadAde20K('{}/{}'.format(root_path, full_file_name))\n",
    "img = cv2.imread(info['img_name'])[:,:,::-1]\n",
    "seg = cv2.imread(info['segm_name'])[:,:,::-1]\n",
    "seg_mask = seg.copy()\n",
    "\n",
    "print(info['img_name'])\n",
    "\n",
    "# 0 индекс обозначает задний фон (нераспределённые объекты)\n",
    "seg_mask[info['class_mask'] != obj_id+1] *= 0\n",
    "plt.figure(figsize=(15,5))\n",
    "\n",
    "plt.imshow(np.concatenate([img, seg, seg_mask], 1))\n",
    "plt.axis('off')\n",
    "if len(info['partclass_mask']):\n",
    "    plt.figure(figsize=(5*len(info['partclass_mask']), 5))\n",
    "    plt.title('Части')\n",
    "    plt.imshow(np.concatenate(info['partclass_mask'],1))\n",
    "    plt.axis('off')\n",
    "    "
   ]
  },
  {
   "cell_type": "code",
   "execution_count": null,
   "id": "0411ce8c",
   "metadata": {
    "cellId": "eyrew5c29jjqaz58txw2do",
    "execution_id": "729dd842-77d9-4abd-bbf7-a8351d1f3c02"
   },
   "outputs": [],
   "source": [
    "instances = [4, 10, 19]\n",
    "images = []\n",
    "for instance in instances:\n",
    "    file_instance = '{}/{}/instance_{:03}_{}'.format(\n",
    "        root_path, full_file_name.replace('.jpg', ''), instance, file_name.replace('.jpg', '.png'))\n",
    "    aux = cv2.imread(file_instance)\n",
    "    images.append(aux)\n",
    "plt.figure(figsize=(5*len(images), 5))\n",
    "plt.imshow(np.concatenate(images, 1))\n",
    "plt.axis('off')\n"
   ]
  },
  {
   "cell_type": "code",
   "execution_count": null,
   "id": "1bb9fc39",
   "metadata": {
    "cellId": "1158fvlzelflq5b4naui7ob",
    "execution_id": "3117e3e1-e537-4dab-8fc9-71ac926d5dbc"
   },
   "outputs": [],
   "source": [
    "img = plot_polygon('{}/{}'.format(root_path, full_file_name), info)\n",
    "plt.figure(figsize=(15,15))\n",
    "plt.imshow(img[:, :, ::-1])\n",
    "plt.axis('off')\n"
   ]
  },
  {
   "cell_type": "code",
   "execution_count": null,
   "id": "310268f1",
   "metadata": {
    "cellId": "h8bmunvpz2cfzsf4v5nr9",
    "execution_id": "05fb1bd1-0561-41cc-9932-980488a62463"
   },
   "outputs": [],
   "source": [
    "info = loadAde20K('{}/{}'.format(root_path, full_file_name))\n",
    "\n",
    "# Загрузка маски\n",
    "mask = cv2.imread(mask_path, cv2.IMREAD_UNCHANGED)\n",
    "\n",
    "# Получение значения класса для конкретного пикселя (x, y)\n",
    "x = 100  # Координата x пикселя\n",
    "y = 200  # Координата y пикселя\n",
    "\n",
    "class_id = mask[y, x]\n",
    "\n",
    "print(f\"Значение класса для пикселя ({x}, {y}): {class_id}\")"
   ]
  }
 ],
 "metadata": {
  "language_info": {
   "codemirror_mode": {
    "name": "ipython",
    "version": 3
   },
   "file_extension": ".py",
   "mimetype": "text/x-python",
   "name": "python",
   "nbconvert_exporter": "python",
   "pygments_lexer": "ipython3",
   "version": "3.7.7"
  },
  "notebookId": "d96b4fed-deb4-43a3-8f94-3548fa111157",
  "notebookPath": "Background_deleter_OLD/Notebooks/ADE20K Starter.ipynb"
 },
 "nbformat": 4,
 "nbformat_minor": 5
}

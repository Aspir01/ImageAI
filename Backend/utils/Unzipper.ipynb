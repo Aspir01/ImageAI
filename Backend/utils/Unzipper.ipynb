{
 "cells": [
  {
   "cell_type": "markdown",
   "id": "f6d162ed",
   "metadata": {
    "cellId": "cnwstodncqsvdlemdcnwb",
    "execution_id": "71a116b9-c78b-45f1-b0a3-4fe31f27ee9e"
   },
   "source": [
    "\n",
    "<h1>Простая программа-распаковщик, нужная для датасетов.</h1>\n",
    "<h3>Если использовать, то менять значения</h3>"
   ]
  },
  {
   "cell_type": "code",
   "execution_count": 5,
   "id": "84a489a8",
   "metadata": {
    "cellId": "8bzbewxc0v60lx9kjsdylsl"
   },
   "outputs": [],
   "source": [
    "#!c1.32\n",
    "import zipfile\n",
    "from tqdm import tqdm\n"
   ]
  },
  {
   "cell_type": "code",
   "execution_count": 6,
   "id": "dd50fc55",
   "metadata": {
    "cellId": "33gmdue7v71xnmmmjin1c"
   },
   "outputs": [
    {
     "ename": "Execute error",
     "evalue": "Dataset ADE20K delete requested, but dataset does not exists.\n",
     "output_type": "error",
     "traceback": []
    }
   ],
   "source": [
    "#pragma dataset delete ADE20K"
   ]
  },
  {
   "cell_type": "code",
   "execution_count": null,
   "id": "ef4f96a0",
   "metadata": {
    "cellId": "9pwx13sa3448ts46f5ui9",
    "execution_id": "089eb5b3-f99f-43a4-91ef-0d8ebb2542de"
   },
   "outputs": [
    {
     "name": "stdout",
     "output_type": "stream",
     "text": [
      "Mounting dataset ADE20K... /home/jupyter/mnt/datasets/ADE20K\n"
     ]
    }
   ],
   "source": [
    "#!c1.32\n",
    "#pragma dataset init ADE20K --size 15Gb\n",
    "\n",
    "# Dataset will be created in /home/jupyter/mnt/datasets/DATASET_NAME\n",
    "\n",
    "\n",
    "#          Менять вот тут \\|\n",
    "DATASETS_DIRECTORY = '/home/jupyter/mnt/datasets/ADE20K'\n",
    "\n",
    "#            И вот тут вот \\|\n",
    "FILE_TO_UNZIP = './ds-packed.zip'\n",
    "\n",
    "with zipfile.ZipFile(FILE_TO_UNZIP, 'r') as zip:\n",
    "    for entry in tqdm(zip.infolist(), desc='Распаковываю '):\n",
    "        try:\n",
    "            zip.extract(entry, DATASETS_DIRECTORY)\n",
    "        except zipfile.error as e:\n",
    "            pass"
   ]
  },
  {
   "cell_type": "code",
   "execution_count": 4,
   "id": "793fd50d",
   "metadata": {
    "cellId": "jdrnhvddeij3d3gercva2k",
    "execution_id": "418d0119-4c8e-4b96-ac91-32a4c6364b5a"
   },
   "outputs": [
    {
     "ename": "LimitExceeded",
     "evalue": "Not enough units in PROJECT to run the execution. Current unit amount is -1526. Please contact your PROJECT admin.\n",
     "output_type": "error",
     "traceback": []
    }
   ],
   "source": [
    "#!c1.8\n"
   ]
  }
 ],
 "metadata": {
  "language_info": {
   "codemirror_mode": {
    "name": "ipython",
    "version": 3
   },
   "file_extension": ".py",
   "mimetype": "text/x-python",
   "name": "python",
   "nbconvert_exporter": "python",
   "pygments_lexer": "ipython3",
   "version": "3.7.7"
  },
  "notebookId": "871a75e2-bb52-4296-b6e9-c83187534b3a",
  "notebookPath": "utils/Unzipper.ipynb"
 },
 "nbformat": 4,
 "nbformat_minor": 5
}

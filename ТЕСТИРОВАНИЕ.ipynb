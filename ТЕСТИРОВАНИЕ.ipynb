{
 "cells": [
  {
   "cell_type": "code",
   "execution_count": 17,
   "id": "6d642f35",
   "metadata": {
    "cellId": "erh1theivqse87rxr3jblp"
   },
   "outputs": [],
   "source": [
    "import tensorflow as tf\n",
    "import numpy as np\n",
    "import cv2\n",
    "\n",
    "from pixellib.semantic import semantic_segmentation\n",
    "import wget\n",
    "import os\n",
    "\n",
    "import ipywidgets as widgets\n",
    "from IPython.display import display\n",
    "from PIL import Image\n",
    "import io\n",
    "\n",
    "from Backend.predict_model import *\n",
    "from Backend.BG_Deleter_pretrained.BG_DEL import *\n"
   ]
  },
  {
   "cell_type": "code",
   "execution_count": 18,
   "id": "0ca1c5d0",
   "metadata": {
    "cellId": "j3ayz4vx4lrp2iyitvx4bo"
   },
   "outputs": [],
   "source": [
    "# def update_background(change):\n",
    "#     print(123)\n",
    "#     if image_uploader.value:\n",
    "#         image_bytes = image_uploader.value[list(image_uploader.value.keys())[0]]['content']\n",
    "#         image_url = f\"data:image/jpg;base64,{image_bytes.decode()}\"\n",
    "#         # Обновляем CSS стиль фона виджета\n",
    "#         image_uploader._upload_button_style = f\"background-image: url('{image_url}'); \\\n",
    "#                                                 background-position: center; \\\n",
    "#                                                 background-repeat: no-repeat; \\\n",
    "#                                                 background-size: contain;\"\n",
    "#         image_uploader.layout.height = '500px'\n",
    "#         image_uploader.layout.width = '500px'\n",
    "#     else:\n",
    "#         image_uploader._upload_button_style = ''\n",
    "#         image_uploader.layout.height = ''\n",
    "#         image_uploader.layout.width = ''"
   ]
  },
  {
   "cell_type": "code",
   "execution_count": 41,
   "id": "ee1f4c60",
   "metadata": {
    "cellId": "33bksrtmky14wzm76w0frb"
   },
   "outputs": [
    {
     "data": {
      "application/vnd.jupyter.widget-view+json": {
       "model_id": "88d8e52d897d4c3d8b40d26527896c05",
       "version_major": 2,
       "version_minor": 0
      },
      "text/plain": [
       "Dropdown(layout=Layout(width='500px'), options=('Функция 1', 'Функция 2'), value='Функция 1')"
      ]
     },
     "metadata": {},
     "output_type": "display_data"
    },
    {
     "data": {
      "application/vnd.jupyter.widget-view+json": {
       "model_id": "6cc377e81b7a47638253d9b60b032994",
       "version_major": 2,
       "version_minor": 0
      },
      "text/plain": [
       "FileUpload(value={}, accept='image/*', description='Загрузить изображение:', layout=Layout(width='500px'))"
      ]
     },
     "metadata": {},
     "output_type": "display_data"
    },
    {
     "data": {
      "application/vnd.jupyter.widget-view+json": {
       "model_id": "b3662d147bb54f608552266a3d6a23d8",
       "version_major": 2,
       "version_minor": 0
      },
      "text/plain": [
       "Button(description='Выполнить', layout=Layout(width='500px'), style=ButtonStyle())"
      ]
     },
     "metadata": {},
     "output_type": "display_data"
    },
    {
     "data": {
      "application/vnd.jupyter.widget-view+json": {
       "model_id": "d17dcf3b888b423db0864f44fa4abe71",
       "version_major": 2,
       "version_minor": 0
      },
      "text/plain": [
       "Output()"
      ]
     },
     "metadata": {},
     "output_type": "display_data"
    }
   ],
   "source": [
    "function_dropdown = widgets.Dropdown(\n",
    "    options=['Функция 1', 'Функция 2'],\n",
    "    layout=widgets.Layout(width='500px')\n",
    ")\n",
    "\n",
    "# Создаем загрузчик изображений\n",
    "image_uploader = widgets.FileUpload(\n",
    "    accept='image/*',\n",
    "    multiple=False,\n",
    "    description='Загрузить изображение:',\n",
    "    layout=widgets.Layout(width='500px')\n",
    ")\n",
    "\n",
    "# Создаем кнопку для выполнения задачи\n",
    "execute_button = widgets.Button(\n",
    "    description='Выполнить',\n",
    "    layout=widgets.Layout(width='500px')\n",
    ")\n",
    "\n",
    "# Создаем выводной виджет для результатов\n",
    "output_result = widgets.Output()\n",
    "\n",
    "# Функция для обработки изображения\n",
    "def process_image(change):\n",
    "    output_result.clear_output()  # Очищаем выводные результаты\n",
    "    with output_result:\n",
    "        if function_dropdown.value == 'Функция 1':\n",
    "            if image_uploader.value:\n",
    "                # Получаем данные о загруженном изображении\n",
    "                uploaded_file = next(iter(image_uploader.value.values()))\n",
    "                # Читаем содержимое файла\n",
    "                image_bytes = uploaded_file['content']\n",
    "                # Открываем изображение с помощью PIL\n",
    "                img = Image.open(io.BytesIO(image_bytes))\n",
    "                # Ваш код для функции 1 (обработка изображения)\n",
    "                # К примеру, отобразим изображение\n",
    "                display(img)\n",
    "            else:\n",
    "                print('Загрузите изображение')\n",
    "        elif function_dropdown.value == 'Функция 2':\n",
    "            # Ваш код для функции 2 (обработка текста)\n",
    "            print('Выполнена функция 2')\n",
    "\n",
    "# Функция для обработки нажатия на кнопку\n",
    "def execute_task(button):\n",
    "    if image_uploader.value:\n",
    "        process_image(None)\n",
    "    else:\n",
    "        print('Загрузите изображение')\n",
    "\n",
    "# Привязываем функции к событиям\n",
    "function_dropdown.observe(process_image, names='value')\n",
    "image_uploader.observe(process_image, names='data')\n",
    "execute_button.on_click(execute_task)\n",
    "\n",
    "# Отображаем виджеты\n",
    "display(function_dropdown)\n",
    "display(image_uploader)\n",
    "display(execute_button)\n",
    "display(output_result)"
   ]
  },
  {
   "cell_type": "code",
   "execution_count": 3,
   "id": "c80dbae5",
   "metadata": {
    "cellId": "0j9nq36hamejdkcm41j12yb"
   },
   "outputs": [],
   "source": [
    "#!c1.4\n"
   ]
  }
 ],
 "metadata": {
  "language_info": {
   "codemirror_mode": {
    "name": "ipython",
    "version": 3
   },
   "file_extension": ".py",
   "mimetype": "text/x-python",
   "name": "python",
   "nbconvert_exporter": "python",
   "pygments_lexer": "ipython3",
   "version": "3.7.7"
  },
  "notebookId": "f5245c0d-f89b-4270-a18d-66a9519f7f5c",
  "notebookPath": "ImageAI/Untitled.ipynb"
 },
 "nbformat": 4,
 "nbformat_minor": 5
}
